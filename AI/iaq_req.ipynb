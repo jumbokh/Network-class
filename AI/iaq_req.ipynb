{
  "nbformat": 4,
  "nbformat_minor": 0,
  "metadata": {
    "colab": {
      "provenance": [],
      "authorship_tag": "ABX9TyPq99eJGnkEjk7+wRsOP0tx",
      "include_colab_link": true
    },
    "kernelspec": {
      "name": "python3",
      "display_name": "Python 3"
    },
    "language_info": {
      "name": "python"
    }
  },
  "cells": [
    {
      "cell_type": "markdown",
      "metadata": {
        "id": "view-in-github",
        "colab_type": "text"
      },
      "source": [
        "<a href=\"https://colab.research.google.com/github/jumbokh/Network-class/blob/main/AI/iaq_req.ipynb\" target=\"_parent\"><img src=\"https://colab.research.google.com/assets/colab-badge.svg\" alt=\"Open In Colab\"/></a>"
      ]
    },
    {
      "cell_type": "code",
      "execution_count": 1,
      "metadata": {
        "id": "pDtV2UGZqbgG"
      },
      "outputs": [],
      "source": [
        "import requests"
      ]
    },
    {
      "cell_type": "code",
      "source": [
        "url = 'https://data.epa.gov.tw/api/v2/aqx_p_432?api_key=e8dd42e6-9b8b-43f8-991e-b3dee723a52d&limit=1000&sort=ImportDate%20desc&format=JSON'"
      ],
      "metadata": {
        "id": "j0g3G3-XqipY"
      },
      "execution_count": 2,
      "outputs": []
    },
    {
      "cell_type": "code",
      "source": [
        "r = requests.get(url)\n",
        "datas = r.json()"
      ],
      "metadata": {
        "id": "YKf7LsUSqmZu"
      },
      "execution_count": 3,
      "outputs": []
    },
    {
      "cell_type": "code",
      "source": [
        "county = input('請輸入要查詢的縣市：')"
      ],
      "metadata": {
        "colab": {
          "base_uri": "https://localhost:8080/"
        },
        "id": "MM385yJ6qsbC",
        "outputId": "1ae13f0a-1017-41de-d015-7f7f88677a85"
      },
      "execution_count": 4,
      "outputs": [
        {
          "name": "stdout",
          "output_type": "stream",
          "text": [
            "請輸入要查詢的縣市：高雄市\n"
          ]
        }
      ]
    },
    {
      "cell_type": "code",
      "source": [
        "print('-'*10)\n",
        "for i in range(len(datas['records'])):\n",
        "    if datas['records'][i]['county'] == county.replace('台', '臺'):\n",
        "        print(datas['records'][i]['county'])\n",
        "        print(datas['records'][i]['sitename'])\n",
        "        print(datas['records'][i]['aqi'])\n",
        "        print(datas['records'][i]['status'])\n",
        "        print()"
      ],
      "metadata": {
        "colab": {
          "base_uri": "https://localhost:8080/"
        },
        "id": "U6iGcCzrq0mK",
        "outputId": "03c5c0cf-a030-47e9-9472-6771fc94197f"
      },
      "execution_count": 5,
      "outputs": [
        {
          "output_type": "stream",
          "name": "stdout",
          "text": [
            "----------\n",
            "高雄市\n",
            "美濃\n",
            "17\n",
            "良好\n",
            "\n",
            "高雄市\n",
            "橋頭\n",
            "32\n",
            "良好\n",
            "\n",
            "高雄市\n",
            "仁武\n",
            "41\n",
            "良好\n",
            "\n",
            "高雄市\n",
            "鳳山\n",
            "43\n",
            "良好\n",
            "\n",
            "高雄市\n",
            "大寮\n",
            "37\n",
            "良好\n",
            "\n",
            "高雄市\n",
            "林園\n",
            "21\n",
            "良好\n",
            "\n",
            "高雄市\n",
            "楠梓\n",
            "34\n",
            "良好\n",
            "\n",
            "高雄市\n",
            "左營\n",
            "36\n",
            "良好\n",
            "\n",
            "高雄市\n",
            "前金\n",
            "31\n",
            "良好\n",
            "\n",
            "高雄市\n",
            "前鎮\n",
            "29\n",
            "良好\n",
            "\n",
            "高雄市\n",
            "小港\n",
            "38\n",
            "良好\n",
            "\n",
            "高雄市\n",
            "復興\n",
            "31\n",
            "良好\n",
            "\n",
            "高雄市\n",
            "高雄(湖內)\n",
            "31\n",
            "良好\n",
            "\n"
          ]
        }
      ]
    }
  ]
}