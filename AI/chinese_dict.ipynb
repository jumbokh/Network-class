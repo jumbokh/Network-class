{
  "nbformat": 4,
  "nbformat_minor": 0,
  "metadata": {
    "colab": {
      "provenance": [],
      "authorship_tag": "ABX9TyM0sEvKOMSAT1VKxlhwXWDS",
      "include_colab_link": true
    },
    "kernelspec": {
      "name": "python3",
      "display_name": "Python 3"
    },
    "language_info": {
      "name": "python"
    }
  },
  "cells": [
    {
      "cell_type": "markdown",
      "metadata": {
        "id": "view-in-github",
        "colab_type": "text"
      },
      "source": [
        "<a href=\"https://colab.research.google.com/github/jumbokh/Network-class/blob/main/AI/chinese_dict.ipynb\" target=\"_parent\"><img src=\"https://colab.research.google.com/assets/colab-badge.svg\" alt=\"Open In Colab\"/></a>"
      ]
    },
    {
      "cell_type": "code",
      "execution_count": 1,
      "metadata": {
        "id": "E_8fCoOqrebg"
      },
      "outputs": [],
      "source": [
        "import requests"
      ]
    },
    {
      "cell_type": "code",
      "source": [
        "word = input('請輸入要查詢的國字：')"
      ],
      "metadata": {
        "colab": {
          "base_uri": "https://localhost:8080/"
        },
        "id": "P-Gj6r5BrgKG",
        "outputId": "55d526d8-b990-42f6-9474-ace41108f7db"
      },
      "execution_count": 2,
      "outputs": [
        {
          "name": "stdout",
          "output_type": "stream",
          "text": [
            "請輸入要查詢的國字：坤\n"
          ]
        }
      ]
    },
    {
      "cell_type": "code",
      "source": [
        "url = \"https://www.moedict.tw/uni/\" + word\n",
        "r = requests.get(url)\n",
        "datas = r.json()"
      ],
      "metadata": {
        "id": "AHmqDTpKrlen"
      },
      "execution_count": 3,
      "outputs": []
    },
    {
      "cell_type": "code",
      "source": [
        "print('-'*10)\n",
        "print('【{}】'.format(datas['title']))\n",
        "print('部首：', datas['radical'])\n",
        "print('筆劃：', datas['stroke_count'])\n",
        "for i in range(len(datas['heteronyms'])):\n",
        "  print('注音：', datas['heteronyms'][i]['bopomofo'])"
      ],
      "metadata": {
        "colab": {
          "base_uri": "https://localhost:8080/"
        },
        "id": "gjbWHd0Krpil",
        "outputId": "2e569b06-7741-4804-88d2-ad582d014f4e"
      },
      "execution_count": 4,
      "outputs": [
        {
          "output_type": "stream",
          "name": "stdout",
          "text": [
            "----------\n",
            "【坤】\n",
            "部首： 土\n",
            "筆劃： 8\n",
            "注音： ㄎㄨㄣ\n"
          ]
        }
      ]
    }
  ]
}