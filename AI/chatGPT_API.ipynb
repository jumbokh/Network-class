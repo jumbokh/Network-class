{
  "nbformat": 4,
  "nbformat_minor": 0,
  "metadata": {
    "colab": {
      "provenance": [],
      "authorship_tag": "ABX9TyO2znGsPJkzYQv6qsBh7j68",
      "include_colab_link": true
    },
    "kernelspec": {
      "name": "python3",
      "display_name": "Python 3"
    },
    "language_info": {
      "name": "python"
    }
  },
  "cells": [
    {
      "cell_type": "markdown",
      "metadata": {
        "id": "view-in-github",
        "colab_type": "text"
      },
      "source": [
        "<a href=\"https://colab.research.google.com/github/jumbokh/Network-class/blob/main/AI/chatGPT_API.ipynb\" target=\"_parent\"><img src=\"https://colab.research.google.com/assets/colab-badge.svg\" alt=\"Open In Colab\"/></a>"
      ]
    },
    {
      "cell_type": "code",
      "execution_count": 1,
      "metadata": {
        "id": "9vk7Gx9juCXH"
      },
      "outputs": [],
      "source": [
        "import requests\n",
        "import config"
      ]
    },
    {
      "cell_type": "code",
      "source": [
        "api_key = config.APIKEY\n",
        "headers = {'Authorization':f'Bearer {api_key}'}\n",
        "api_url = 'https://api.openai.com/v1/completions'"
      ],
      "metadata": {
        "id": "McJv9wPZut7j"
      },
      "execution_count": 2,
      "outputs": []
    },
    {
      "cell_type": "code",
      "source": [
        "q = '請安排非資訊類科系計算機概論十八週課程'"
      ],
      "metadata": {
        "id": "8OXil68pu57y"
      },
      "execution_count": 3,
      "outputs": []
    },
    {
      "cell_type": "code",
      "source": [
        "data = {'prompt':q,\n",
        "        'model':'text-davinci-003',\n",
        "        'max_tokens':1024,\n",
        "        'temperature':0.5,\n",
        "       }"
      ],
      "metadata": {
        "id": "200H9_vovMv8"
      },
      "execution_count": 4,
      "outputs": []
    },
    {
      "cell_type": "code",
      "source": [
        "response = requests.post(\n",
        "api_url,\n",
        "json=data,\n",
        "headers=headers)"
      ],
      "metadata": {
        "id": "UOnFObP8vQzs"
      },
      "execution_count": 5,
      "outputs": []
    },
    {
      "cell_type": "code",
      "source": [
        "print(response.text)"
      ],
      "metadata": {
        "colab": {
          "base_uri": "https://localhost:8080/"
        },
        "id": "l_UqsYxkvdMb",
        "outputId": "e0bf0108-9509-422c-8e5a-faafe271a8ce"
      },
      "execution_count": 6,
      "outputs": [
        {
          "output_type": "stream",
          "name": "stdout",
          "text": [
            "{\n",
            "    \"error\": {\n",
            "        \"message\": \"You exceeded your current quota, please check your plan and billing details.\",\n",
            "        \"type\": \"insufficient_quota\",\n",
            "        \"param\": null,\n",
            "        \"code\": null\n",
            "    }\n",
            "}\n",
            "\n"
          ]
        }
      ]
    },
    {
      "cell_type": "code",
      "source": [
        "# https://platform.openai.com/account/usage"
      ],
      "metadata": {
        "id": "c3ykcO4bwxWj"
      },
      "execution_count": null,
      "outputs": []
    },
    {
      "cell_type": "code",
      "source": [],
      "metadata": {
        "id": "1WMnE778wy81"
      },
      "execution_count": null,
      "outputs": []
    }
  ]
}