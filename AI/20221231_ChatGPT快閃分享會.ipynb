{
  "nbformat": 4,
  "nbformat_minor": 0,
  "metadata": {
    "colab": {
      "provenance": [],
      "include_colab_link": true
    },
    "kernelspec": {
      "name": "python3",
      "display_name": "Python 3"
    },
    "language_info": {
      "name": "python"
    }
  },
  "cells": [
    {
      "cell_type": "markdown",
      "metadata": {
        "id": "view-in-github",
        "colab_type": "text"
      },
      "source": [
        "<a href=\"https://colab.research.google.com/github/jumbokh/Network-class/blob/main/AI/20221231_ChatGPT%E5%BF%AB%E9%96%83%E5%88%86%E4%BA%AB%E6%9C%83.ipynb\" target=\"_parent\"><img src=\"https://colab.research.google.com/assets/colab-badge.svg\" alt=\"Open In Colab\"/></a>"
      ]
    },
    {
      "cell_type": "code",
      "execution_count": null,
      "metadata": {
        "id": "8BcQOP3a0sia"
      },
      "outputs": [],
      "source": [
        "!pip install openai"
      ]
    },
    {
      "cell_type": "code",
      "source": [
        "# 開發第一個ChatGPT程式\n",
        "import openai\n",
        "\n",
        "openai.api_key = \"Open API Key\"\n",
        "\n",
        "response = openai.Completion.create(\n",
        "  model=\"text-davinci-003\",\n",
        "  prompt=\"請問Python有哪幾種基本的資料型態？\",\n",
        "  temperature=0,\n",
        "  max_tokens=500,\n",
        "  top_p=1,\n",
        "  frequency_penalty=0.5,\n",
        "  presence_penalty=0\n",
        ")"
      ],
      "metadata": {
        "id": "ZFwr_3dd1SAp"
      },
      "execution_count": null,
      "outputs": []
    },
    {
      "cell_type": "code",
      "source": [
        "response"
      ],
      "metadata": {
        "colab": {
          "base_uri": "https://localhost:8080/"
        },
        "id": "4U8QQvYL2OAo",
        "outputId": "63e8892d-a17b-4530-9d15-73a508649a1b"
      },
      "execution_count": null,
      "outputs": [
        {
          "output_type": "execute_result",
          "data": {
            "text/plain": [
              "<OpenAIObject text_completion id=cmpl-6TPXR0KedfluoGFfBH6IkNEHVa65g at 0x7f98361d50e0> JSON: {\n",
              "  \"choices\": [\n",
              "    {\n",
              "      \"finish_reason\": \"stop\",\n",
              "      \"index\": 0,\n",
              "      \"logprobs\": null,\n",
              "      \"text\": \"\\n\\nPython\\u6709\\u4ee5\\u4e0b\\u5e7e\\u7a2e\\u57fa\\u672c\\u7684\\u8cc7\\u6599\\u578b\\u614b\\uff1a\\n\\n1. \\u6578\\u5b57 (Number)\\uff1a\\u6574\\u6578 (int)\\u3001\\u6d6e\\u9ede\\u6578 (float)\\u3001\\u8907\\u6578 (complex)\\n2. \\u5b57\\u4e32 (String)\\n3. \\u5217\\u8868 (List)\\n4. \\u5143\\u7d44 (Tuple)\\n5. \\u96c6\\u5408 (Set)\\n6. \\u5b57\\u5178 (Dictionary)\"\n",
              "    }\n",
              "  ],\n",
              "  \"created\": 1672467701,\n",
              "  \"id\": \"cmpl-6TPXR0KedfluoGFfBH6IkNEHVa65g\",\n",
              "  \"model\": \"text-davinci-003\",\n",
              "  \"object\": \"text_completion\",\n",
              "  \"usage\": {\n",
              "    \"completion_tokens\": 133,\n",
              "    \"prompt_tokens\": 36,\n",
              "    \"total_tokens\": 169\n",
              "  }\n",
              "}"
            ]
          },
          "metadata": {},
          "execution_count": 4
        }
      ]
    },
    {
      "cell_type": "code",
      "source": [
        "print(response[\"choices\"][0][\"text\"].strip())"
      ],
      "metadata": {
        "colab": {
          "base_uri": "https://localhost:8080/"
        },
        "id": "OirHHOR82lVg",
        "outputId": "efae9f68-189f-495f-e22e-3ca60b6e370c"
      },
      "execution_count": null,
      "outputs": [
        {
          "output_type": "stream",
          "name": "stdout",
          "text": [
            "Python有以下幾種基本的資料型態：\n",
            "\n",
            "1. 數字 (Number)：整數 (int)、浮點數 (float)、複數 (complex)\n",
            "2. 字串 (String)\n",
            "3. 列表 (List)\n",
            "4. 元組 (Tuple)\n",
            "5. 集合 (Set)\n",
            "6. 字典 (Dictionary)\n"
          ]
        }
      ]
    },
    {
      "cell_type": "code",
      "source": [
        "# ChatGPT簡易聊天程式\n",
        "import openai\n",
        "openai.api_key = key\n",
        "\n",
        "Question = input(\"請輸入您的問題：\")\n",
        "\n",
        "if Question != \"\":\n",
        "    response = openai.Completion.create(\n",
        "    model=\"text-davinci-003\",\n",
        "    prompt=Question,\n",
        "    temperature=0,\n",
        "    max_tokens=500,\n",
        "    top_p=1,\n",
        "    frequency_penalty=0.5,\n",
        "    presence_penalty=0\n",
        "    )\n",
        "    # 顯示答案\n",
        "    print(response[\"choices\"][0][\"text\"].strip())"
      ],
      "metadata": {
        "colab": {
          "base_uri": "https://localhost:8080/"
        },
        "id": "y2HE4cRB3R5u",
        "outputId": "355597a6-e11d-41d9-c495-a42a8213f55e"
      },
      "execution_count": null,
      "outputs": [
        {
          "output_type": "stream",
          "name": "stdout",
          "text": [
            "請輸入您的問題：請問愛情是什麼？\n",
            "愛情是一種深沉的情感，它可以讓人們感到快樂、安全和滿足。它也可以讓人們有勇氣去面對困難，並且在困難中找到希望。\n"
          ]
        }
      ]
    },
    {
      "cell_type": "code",
      "source": [
        "# 製作ChatGPT自訂函式\n",
        "def askchatgpt(Question):\n",
        "    response = openai.Completion.create(\n",
        "    model=\"text-davinci-003\",\n",
        "    prompt=Question,\n",
        "    temperature=0,\n",
        "    max_tokens=500,\n",
        "    top_p=1,\n",
        "    frequency_penalty=0.5,\n",
        "    presence_penalty=0\n",
        "    )\n",
        "    # 返回答案\n",
        "    return response[\"choices\"][0][\"text\"].strip()"
      ],
      "metadata": {
        "id": "f_jCTDJT4rtk"
      },
      "execution_count": null,
      "outputs": []
    },
    {
      "cell_type": "code",
      "source": [
        "Question = input(\"請輸入您的問題：\")\n",
        "print(askchatgpt(Question))"
      ],
      "metadata": {
        "colab": {
          "base_uri": "https://localhost:8080/"
        },
        "id": "7vgnkvms5Rbl",
        "outputId": "9094e8c8-7b21-4b3c-f1b2-fe2fd5353fb3"
      },
      "execution_count": null,
      "outputs": [
        {
          "output_type": "stream",
          "name": "stdout",
          "text": [
            "請輸入您的問題：要怎麼保持健康?\n",
            "1. 均衡飲食：每天吃足夠的蔬菜、水果、全穀類和健康的脂肪，以及適量的蛋白質和碳水化合物。\n",
            "\n",
            "2. 運動：定期鍛煉可以促進血液循環，改善心血管健康，並幫助控制體重。\n",
            "\n",
            "3. 保持正常的作息時間：保持一定的作息時間有助於調整生理機能，並有助於保持心理和情緒上的平衡。\n",
            "\n",
            "4. 限制酗酒：過量飲酒對人體有害無益，可能導致多重健康危害。\n",
            "\n",
            "5. 合理使用藥物：在使用任何藥物之前都要先徵詢醫生意見。\n"
          ]
        }
      ]
    },
    {
      "cell_type": "code",
      "source": [
        "# 製作有使用介面的聊天機器人：Gradio\n",
        "# !pip install gradio\n",
        "\n",
        "#create interface object\n",
        "import gradio as gr\n",
        "gui = gr.Interface(fn=askchatgpt, #callable function\n",
        "                   inputs=\"text\", #input format\n",
        "                   outputs=\"text\") #output format\n",
        "#display the interface\n",
        "gui.launch()"
      ],
      "metadata": {
        "colab": {
          "base_uri": "https://localhost:8080/",
          "height": 616
        },
        "id": "VnXRgSlT6JcS",
        "outputId": "44a89129-d84a-4468-acb0-f768384309cb"
      },
      "execution_count": null,
      "outputs": [
        {
          "output_type": "stream",
          "name": "stdout",
          "text": [
            "Colab notebook detected. To show errors in colab notebook, set debug=True in launch()\n",
            "Note: opening Chrome Inspector may crash demo inside Colab notebooks.\n",
            "\n",
            "To create a public link, set `share=True` in `launch()`.\n"
          ]
        },
        {
          "output_type": "display_data",
          "data": {
            "text/plain": [
              "<IPython.core.display.Javascript object>"
            ],
            "application/javascript": [
              "(async (port, path, width, height, cache, element) => {\n",
              "                        if (!google.colab.kernel.accessAllowed && !cache) {\n",
              "                            return;\n",
              "                        }\n",
              "                        element.appendChild(document.createTextNode(''));\n",
              "                        const url = await google.colab.kernel.proxyPort(port, {cache});\n",
              "\n",
              "                        const external_link = document.createElement('div');\n",
              "                        external_link.innerHTML = `\n",
              "                            <div style=\"font-family: monospace; margin-bottom: 0.5rem\">\n",
              "                                Running on <a href=${new URL(path, url).toString()} target=\"_blank\">\n",
              "                                    https://localhost:${port}${path}\n",
              "                                </a>\n",
              "                            </div>\n",
              "                        `;\n",
              "                        element.appendChild(external_link);\n",
              "\n",
              "                        const iframe = document.createElement('iframe');\n",
              "                        iframe.src = new URL(path, url).toString();\n",
              "                        iframe.height = height;\n",
              "                        iframe.allow = \"autoplay; camera; microphone; clipboard-read; clipboard-write;\"\n",
              "                        iframe.width = width;\n",
              "                        iframe.style.border = 0;\n",
              "                        element.appendChild(iframe);\n",
              "                    })(7860, \"/\", \"100%\", 500, false, window.element)"
            ]
          },
          "metadata": {}
        },
        {
          "output_type": "execute_result",
          "data": {
            "text/plain": []
          },
          "metadata": {},
          "execution_count": 12
        }
      ]
    }
  ]
}